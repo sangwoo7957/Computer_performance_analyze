{
 "cells": [
  {
   "cell_type": "code",
   "execution_count": null,
   "metadata": {},
   "outputs": [],
   "source": [
    "import requests\n",
    "import pandas as pd\n",
    "\n",
    "params = {\n",
    "  'api_key': '9C805C1EB8554203B094C6E55143D4B3',\n",
    "  'type': 'category',\n",
    "  'url': 'https://www.amazon.com/s?k=desktop&i=computers-intl-ship&ref=nb_sb_noss_2',\n",
    "  'page': '1',\n",
    "  'output': 'json'\n",
    "}\n",
    "\n",
    "for params['page'] in range(1, 250):\n",
    "    api_result = requests.get('https://api.rainforestapi.com/request', params)\n",
    "    dataframe = pd.DataFrame(api_result.json()['category_results'], columns = ['asin'])\n",
    "    dataframe.to_csv('tests.csv', mode='a')"
   ]
  },
  {
   "cell_type": "code",
   "execution_count": null,
   "metadata": {},
   "outputs": [],
   "source": [
    "import requests\n",
    "import pandas as pd\n",
    "import csv\n",
    "\n",
    "params = {\n",
    "  'api_key': '9C805C1EB8554203B094C6E55143D4B3',\n",
    "  'type': 'product',\n",
    "  'amazon_domain': 'amazon.com',\n",
    "  'asin': 'B0862269YP',\n",
    "  'output': 'csv',\n",
    "  'csv_fields': 'product.specifications.price,product.specifications.speed, product.specifications.hd, product.specifications.ram,product.specifications.screen,product.specifications.cd,product.specifications.multi,product.specifications.premium,product.specifications.ads,product.specifications.trend'\n",
    "}\n",
    "datas = read_csv('test.csv')\n",
    "\n",
    "for asin_list in datas:\n",
    "    params.update(asin=asin_list)\n",
    "    api_result = requests.get('https://api.rainforestapi.com/request', params)\n",
    "    data = api_result.content\n",
    "    file = open('computers.csv', 'ab')\n",
    "    file.write(data)\n",
    "    file.close()"
   ]
  }
 ],
 "metadata": {
  "kernelspec": {
   "display_name": "Python 3",
   "language": "python",
   "name": "python3"
  },
  "language_info": {
   "codemirror_mode": {
    "name": "ipython",
    "version": 3
   },
   "file_extension": ".py",
   "mimetype": "text/x-python",
   "name": "python",
   "nbconvert_exporter": "python",
   "pygments_lexer": "ipython3",
   "version": "3.7.10"
  }
 },
 "nbformat": 4,
 "nbformat_minor": 4
}
